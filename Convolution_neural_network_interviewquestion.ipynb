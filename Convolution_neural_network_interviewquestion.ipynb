{
 "cells": [
  {
   "cell_type": "markdown",
   "metadata": {},
   "source": [
    "# Convolution neural network"
   ]
  },
  {
   "cell_type": "markdown",
   "metadata": {},
   "source": [
    "#### Q. What is convolution neural network ?\n",
    "\n",
    "#### Q. Why cnn works better with Images ?\n",
    "\n",
    "#### Q. What is work of convolution fitlers ?\n",
    "\n",
    "#### Q. What is work of maxpooling layers ?\n",
    "\n",
    "#### Q. What is work of convolution fitlers ?\n",
    "\n",
    "#### Q. Let's say while training the error went low then suddenly its starts raising or the error is not goting down So, Whats happening ?\n",
    "\n",
    "#### Q. What is Transfer learning ?\n",
    "\n",
    "#### Q. What is Formula for getting number of parameter in sequentials model ?\n",
    "\n",
    "#### Q. What is Formular for calculating image size after applying convolution operation ? (inputimag+2padding-filter/stride) + 1\n",
    "\n",
    "#### Q. What are the diffrent layers in convolution layers ?\n",
    "\n",
    "#### Q. Why you didn't choose some x model instead of y model, example why you choose vgg16 instead of other available models ?\n",
    "\n",
    "#### Q. What is Image processing ?\n",
    "\n",
    "#### Q. What is Image Augmentation ?\n",
    "\n",
    "#### Q. How to extract text data from image ?\n",
    "\n",
    "#### Q. What is difference betweeen RCNN and CNN ?\n",
    "\n",
    "#### Q. How Image segmentation differ from Object detection ?\n",
    "\n",
    "#### Q. How to train a Cascade file ?\n",
    "\n",
    "#### Q. When you should choose train a cascade file or when to train Object detection model like Yolo ?\n",
    "\n",
    "#### Q. How to improve model accuracy, lets say you have a model and which is performing ok.. with accuracy of 70%, How you will improve accuracy and this is a 20+ class classification ?\n",
    "\n",
    "#### Q. What is Overfitting, and how to avoid it ?\n",
    "\n",
    "#### Q. Does Pretrained model like alexnet, vgg, or other models overfit, if no why don't they and if yes why (as they are using already relu .. dropout) ?\n",
    "\n",
    "#### Q. What is Padding ?\n",
    "\n",
    "#### Q. What is Stride ?\n",
    "\n",
    "#### Q. If the Input image have size of 11,11 filter size is 2x2 and what would be padding size and stride to get a image of size 6x6 ?\n",
    "\n",
    "#### Q. How to find edge in a image ?\n",
    "\n",
    "#### Q. I have a image, where there are some horizontal lines, and i want to hide them, what can i do ?\n",
    "\n",
    "#### Q. How to load a image with Opencv ?\n",
    "\n",
    "#### Q. How to process this Blured image https://encrypted-tbn0.gstatic.com/images?q=tbn%3AANd9GcQJKrnZzrogWNTnnxcpx-R6A-zBboEkvjwHAQ&usqp=CAU ?\n",
    "\n",
    "#### Q. Lets say you got a image for processing, you saw that the image is super blured, but you can see a pattern in that image that means there is some object behind the blur, what will be your steps to clean the image?\n",
    "\n",
    "#### Q. If you are writing your own loss function for a NN program, what you will look forward to ?\n",
    "\n",
    "#### Q. Let's say there is a very large image 2000x1000 but what you are looking for is very tiny around 80x80 somewhere in image, what are the convolution techniques you can use to extract that ?\n",
    "\n",
    "\n",
    "\n",
    "\n"
   ]
  }
 ],
 "metadata": {
  "kernelspec": {
   "display_name": "Python 3",
   "language": "python",
   "name": "python3"
  },
  "language_info": {
   "codemirror_mode": {
    "name": "ipython",
    "version": 3
   },
   "file_extension": ".py",
   "mimetype": "text/x-python",
   "name": "python",
   "nbconvert_exporter": "python",
   "pygments_lexer": "ipython3",
   "version": "3.7.6"
  }
 },
 "nbformat": 4,
 "nbformat_minor": 4
}
