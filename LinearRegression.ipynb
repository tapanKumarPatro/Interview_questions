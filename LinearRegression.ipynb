{
 "cells": [
  {
   "cell_type": "markdown",
   "metadata": {},
   "source": [
    "# Linear Regression"
   ]
  },
  {
   "cell_type": "markdown",
   "metadata": {},
   "source": [
    "#### What are assumptions for Linear regression ?\n",
    "\n",
    "#### How to find best fit line ?\n",
    "\n",
    "#### What is Hetroscadacity ?\n",
    "\n",
    "#### Why data distrubution is important ?\n",
    "\n",
    "#### What is normal distrubution ? and why it is important ?\n",
    "\n",
    "#### What is r2 and adjusted r2 ?\n",
    "\n",
    "#### What is Performance metrics for Linear regression ?\n",
    "\n",
    "#### "
   ]
  }
 ],
 "metadata": {
  "kernelspec": {
   "display_name": "Python 3",
   "language": "python",
   "name": "python3"
  },
  "language_info": {
   "codemirror_mode": {
    "name": "ipython",
    "version": 3
   },
   "file_extension": ".py",
   "mimetype": "text/x-python",
   "name": "python",
   "nbconvert_exporter": "python",
   "pygments_lexer": "ipython3",
   "version": "3.7.6"
  }
 },
 "nbformat": 4,
 "nbformat_minor": 4
}
